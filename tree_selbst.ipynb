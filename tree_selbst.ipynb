{
  "nbformat": 4,
  "nbformat_minor": 0,
  "metadata": {
    "colab": {
      "name": "tree-selbst.ipynb",
      "provenance": [],
      "include_colab_link": true
    },
    "kernelspec": {
      "name": "python3",
      "display_name": "Python 3"
    },
    "language_info": {
      "name": "python"
    }
  },
  "cells": [
    {
      "cell_type": "markdown",
      "metadata": {
        "id": "view-in-github",
        "colab_type": "text"
      },
      "source": [
        "<a href=\"https://colab.research.google.com/github/LSschenke/Colab/blob/main/tree_selbst.ipynb\" target=\"_parent\"><img src=\"https://colab.research.google.com/assets/colab-badge.svg\" alt=\"Open In Colab\"/></a>"
      ]
    },
    {
      "cell_type": "markdown",
      "metadata": {
        "id": "hQN3wbNGHCTB"
      },
      "source": [
        "##Implementierung der Tree-Klasse##"
      ]
    },
    {
      "cell_type": "code",
      "metadata": {
        "id": "X7U-zusD-YgF"
      },
      "source": [
        "class Tree:\n",
        "  \"\"\"Baumstruktur implentieren\"\"\"\n",
        "  def __init__(self, parent, value):\n",
        "    \"\"\"Init-Methode, parent, value und id\"\"\"\n",
        "    global id\n",
        "    self.id = id\n",
        "    self.parent = parent\n",
        "    self.value = value\n",
        "    self.child = list()\n",
        "    dic_tree.update({id:self})\n",
        "    id += 1\n",
        "\n",
        "    #print(f\"Neuer Knoten mit value:{self.value} und parent:{self.parent}\")\n",
        "\t\n",
        "  def addChild(tree, value):\n",
        "    # neuer Baum new_child: tree is parent, value is value\n",
        "    new_child = Tree(tree, value)\n",
        "    \n",
        "    if tree.child == list():\n",
        "      tree.child = [new_child]\n",
        "    else:\n",
        "      tree.child.append(new_child)\n",
        "    \n",
        "  def getChildren(self):\n",
        "    return self.child\n",
        "\n",
        "  def ausgabe(self):\n",
        "    print(f\"id:{self.id} - value:{self.value} - parent:{self.parent}\")\n",
        "    print(f\"children:{[_.value for _ in self.child]}\")\n",
        "\n",
        "  def getParent(self):\n",
        "    return self.parent\n",
        "  \n",
        "  def getSisters(self):\n",
        "    return self.parent.child\n",
        "\n",
        "  def getPosSisters(self):\n",
        "    return Tree.getChildren(self.parent).index(self)\n",
        "  \n",
        "  def lastPosSisters(self):\n",
        "    #print(len(Tree.getChildren(self.parent)))\n",
        "    #print(Tree.getPosSisters(self))\n",
        "    return len(Tree.getChildren(self.parent))-1 == Tree.getPosSisters(self)\n",
        "\n"
      ],
      "execution_count": null,
      "outputs": []
    },
    {
      "cell_type": "markdown",
      "metadata": {
        "id": "75ENOnx6HVd7"
      },
      "source": [
        "## Einlesen eines Baumes als Beispiel##"
      ]
    },
    {
      "cell_type": "code",
      "metadata": {
        "colab": {
          "base_uri": "https://localhost:8080/"
        },
        "id": "Ul176Y-_GyHa",
        "outputId": "e2126892-7d15-4393-82f3-ae2c4412cd21"
      },
      "source": [
        "# Basisimplementation/ dic_tree = id:tree/ id wird hochgezählt\n",
        "id = 0\n",
        "dic_tree = {}\n",
        "\n",
        "root = Tree(None, 'Erfolgsaussichten')\n",
        "\n",
        "Tree.ausgabe(root)\n",
        "\n",
        "Tree.addChild(root, 'I. Zulässigkeit')          # id1\n",
        "Tree.addChild(root, 'II. Begründet')            # id2\n",
        "\n",
        "Tree.addChild(dic_tree[1], \"1. VRW\")            # id3\n",
        "Tree.addChild(dic_tree[1], \"2. Anfechtungsklage\") # id4\n",
        "Tree.addChild(dic_tree[3], \"a) Öffentlich-rechtliche Streitigkeit\")\n",
        "Tree.addChild(dic_tree[3], \"b) Nichtverfassungsrechtlicher Art\")\n",
        "Tree.addChild(dic_tree[3], \"c) keine abdrängende Sonderzuweisung\")\n",
        "\n",
        "\n",
        "for _ in dic_tree:\n",
        "  #print(f\"{_.id} - value:{_.value}\")\t\n",
        "  print(_, dic_tree[_].value)\n"
      ],
      "execution_count": null,
      "outputs": [
        {
          "output_type": "stream",
          "text": [
            "id:0 - value:Erfolgsaussichten - parent:None\n",
            "children:[]\n",
            "0 Erfolgsaussichten\n",
            "1 I. Zulässigkeit\n",
            "2 II. Begründet\n",
            "3 1. VRW\n",
            "4 2. Anfechtungsklage\n",
            "5 a) Öffentlich-rechtliche Streitigkeit\n",
            "6 b) Nichtverfassungsrechtlicher Art\n",
            "7 c) keine abdrängende Sonderzuweisung\n"
          ],
          "name": "stdout"
        }
      ]
    },
    {
      "cell_type": "code",
      "metadata": {
        "id": "zmdJagK1-1xL",
        "colab": {
          "base_uri": "https://localhost:8080/"
        },
        "outputId": "5d53a2d3-26a7-400c-d849-de4866585e80"
      },
      "source": [
        " def preorder(self):\n",
        "    print(self.id, ' - ', self.value)\n",
        " \n",
        "    runter = Tree.getChildren(self)\n",
        "    if runter == list():\n",
        "      print ('hier aussteigen')\n",
        "      return \n",
        "    else:\n",
        "      preorder(runter[0])\n",
        "\n",
        "preorder(dic_tree[0])\n",
        "    "
      ],
      "execution_count": null,
      "outputs": [
        {
          "output_type": "stream",
          "text": [
            "0  -  Erfolgsaussichten\n",
            "1  -  I. Zulässigkeit\n",
            "3  -  1. VRW\n",
            "5  -  a) Öffentlich-rechtliche Streitigkeit\n",
            "hier aussteigen\n"
          ],
          "name": "stdout"
        }
      ]
    },
    {
      "cell_type": "code",
      "metadata": {
        "id": "_BO0kHjhfDYo",
        "colab": {
          "base_uri": "https://localhost:8080/",
          "height": 38
        },
        "outputId": "fa4982b3-a60c-4a1b-94e1-5bb9012ebc0b"
      },
      "source": [
        "dic_tree[0].value"
      ],
      "execution_count": null,
      "outputs": [
        {
          "output_type": "execute_result",
          "data": {
            "application/vnd.google.colaboratory.intrinsic+json": {
              "type": "string"
            },
            "text/plain": [
              "'Erfolgsaussichten'"
            ]
          },
          "metadata": {
            "tags": []
          },
          "execution_count": 4
        }
      ]
    },
    {
      "cell_type": "code",
      "metadata": {
        "id": "GSa-0ne9602v"
      },
      "source": [
        ""
      ],
      "execution_count": null,
      "outputs": []
    },
    {
      "cell_type": "markdown",
      "metadata": {
        "id": "dD3vxC51fPF9"
      },
      "source": [
        ""
      ]
    },
    {
      "cell_type": "code",
      "metadata": {
        "id": "8IUafZRef0Qq"
      },
      "source": [
        ""
      ],
      "execution_count": null,
      "outputs": []
    },
    {
      "cell_type": "code",
      "metadata": {
        "colab": {
          "base_uri": "https://localhost:8080/",
          "height": 171
        },
        "id": "0BoDvFAsAuH7",
        "outputId": "5c79cd02-4063-49fa-e4f8-3cf0639f8402"
      },
      "source": [
        "Tree.getPosSisters(dic_tree[2])"
      ],
      "execution_count": null,
      "outputs": [
        {
          "output_type": "error",
          "ename": "NameError",
          "evalue": "ignored",
          "traceback": [
            "\u001b[0;31m---------------------------------------------------------------------------\u001b[0m",
            "\u001b[0;31mNameError\u001b[0m                                 Traceback (most recent call last)",
            "\u001b[0;32m<ipython-input-3-fde6335fa368>\u001b[0m in \u001b[0;36m<module>\u001b[0;34m()\u001b[0m\n\u001b[0;32m----> 1\u001b[0;31m \u001b[0mTree\u001b[0m\u001b[0;34m.\u001b[0m\u001b[0mgetPosSisters\u001b[0m\u001b[0;34m(\u001b[0m\u001b[0mdic_tree\u001b[0m\u001b[0;34m[\u001b[0m\u001b[0;36m2\u001b[0m\u001b[0;34m]\u001b[0m\u001b[0;34m)\u001b[0m\u001b[0;34m\u001b[0m\u001b[0;34m\u001b[0m\u001b[0m\n\u001b[0m",
            "\u001b[0;31mNameError\u001b[0m: name 'Tree' is not defined"
          ]
        }
      ]
    },
    {
      "cell_type": "code",
      "metadata": {
        "colab": {
          "base_uri": "https://localhost:8080/"
        },
        "id": "NyNRL9UFJcH7",
        "outputId": "cfd5cdd2-821b-43ab-b069-1d96394071dc"
      },
      "source": [
        "x = {1:\"eins\", 2:\"zwei\"}\n",
        "print(x[1])"
      ],
      "execution_count": null,
      "outputs": [
        {
          "output_type": "stream",
          "text": [
            "eins\n"
          ],
          "name": "stdout"
        }
      ]
    },
    {
      "cell_type": "code",
      "metadata": {
        "id": "xoN_eXlfgM61"
      },
      "source": [
        ""
      ],
      "execution_count": null,
      "outputs": []
    },
    {
      "cell_type": "code",
      "metadata": {
        "id": "jJTcMAhLgNyF"
      },
      "source": [
        ""
      ],
      "execution_count": null,
      "outputs": []
    },
    {
      "cell_type": "code",
      "metadata": {
        "id": "a4kj6QSxgOiB"
      },
      "source": [
        ""
      ],
      "execution_count": null,
      "outputs": []
    },
    {
      "cell_type": "code",
      "metadata": {
        "id": "n4iZGxeZKlw3",
        "colab": {
          "base_uri": "https://localhost:8080/"
        },
        "outputId": "3f1d35e8-6f4a-4f77-efa7-b0bcb5f13fad"
      },
      "source": [
        "class Test:\n",
        "  def __init__(self):\n",
        "    global id\n",
        "    self.id = id\n",
        "    id = id + 1\n",
        "\n",
        "id = 1\n",
        "a = Test()\n",
        "print(a.id, id)\n"
      ],
      "execution_count": null,
      "outputs": [
        {
          "output_type": "stream",
          "text": [
            "1 2\n"
          ],
          "name": "stdout"
        }
      ]
    },
    {
      "cell_type": "code",
      "metadata": {
        "id": "52afR2MbP3_U",
        "colab": {
          "base_uri": "https://localhost:8080/",
          "height": 171
        },
        "outputId": "a12d6734-0e74-4d49-cd29-0c4f7d9e409b"
      },
      "source": [
        "getParent(dic_tree[1])"
      ],
      "execution_count": null,
      "outputs": [
        {
          "output_type": "error",
          "ename": "NameError",
          "evalue": "ignored",
          "traceback": [
            "\u001b[0;31m---------------------------------------------------------------------------\u001b[0m",
            "\u001b[0;31mNameError\u001b[0m                                 Traceback (most recent call last)",
            "\u001b[0;32m<ipython-input-9-523547be6a6c>\u001b[0m in \u001b[0;36m<module>\u001b[0;34m()\u001b[0m\n\u001b[0;32m----> 1\u001b[0;31m \u001b[0mgetParent\u001b[0m\u001b[0;34m(\u001b[0m\u001b[0mdic_tree\u001b[0m\u001b[0;34m[\u001b[0m\u001b[0;36m1\u001b[0m\u001b[0;34m]\u001b[0m\u001b[0;34m)\u001b[0m\u001b[0;34m\u001b[0m\u001b[0;34m\u001b[0m\u001b[0m\n\u001b[0m",
            "\u001b[0;31mNameError\u001b[0m: name 'getParent' is not defined"
          ]
        }
      ]
    },
    {
      "cell_type": "code",
      "metadata": {
        "id": "xQWKN3WaCZke",
        "colab": {
          "base_uri": "https://localhost:8080/"
        },
        "outputId": "7dd99f63-7d1f-4f57-97ab-e27a669f3708"
      },
      "source": [
        "liste = [1, 2, 3]\n",
        "print(liste.index(2))\n",
        "print(len(liste))"
      ],
      "execution_count": null,
      "outputs": [
        {
          "output_type": "stream",
          "text": [
            "1\n",
            "3\n"
          ],
          "name": "stdout"
        }
      ]
    },
    {
      "cell_type": "code",
      "metadata": {
        "colab": {
          "base_uri": "https://localhost:8080/"
        },
        "id": "6V3B264nn5xS",
        "outputId": "8e083e31-2980-41cc-831f-73ad75315701"
      },
      "source": [
        "print(liste[1])"
      ],
      "execution_count": null,
      "outputs": [
        {
          "output_type": "stream",
          "text": [
            "2\n"
          ],
          "name": "stdout"
        }
      ]
    },
    {
      "cell_type": "code",
      "metadata": {
        "colab": {
          "base_uri": "https://localhost:8080/",
          "height": 171
        },
        "id": "c5mCH4IQoBBP",
        "outputId": "40319968-b9ee-4f49-98e0-9c45348be7a4"
      },
      "source": [
        "print(liste[3])"
      ],
      "execution_count": null,
      "outputs": [
        {
          "output_type": "error",
          "ename": "IndexError",
          "evalue": "ignored",
          "traceback": [
            "\u001b[0;31m---------------------------------------------------------------------------\u001b[0m",
            "\u001b[0;31mIndexError\u001b[0m                                Traceback (most recent call last)",
            "\u001b[0;32m<ipython-input-3-db96302ff4ae>\u001b[0m in \u001b[0;36m<module>\u001b[0;34m()\u001b[0m\n\u001b[0;32m----> 1\u001b[0;31m \u001b[0mprint\u001b[0m\u001b[0;34m(\u001b[0m\u001b[0mliste\u001b[0m\u001b[0;34m[\u001b[0m\u001b[0;36m3\u001b[0m\u001b[0;34m]\u001b[0m\u001b[0;34m)\u001b[0m\u001b[0;34m\u001b[0m\u001b[0;34m\u001b[0m\u001b[0m\n\u001b[0m",
            "\u001b[0;31mIndexError\u001b[0m: list index out of range"
          ]
        }
      ]
    },
    {
      "cell_type": "code",
      "metadata": {
        "id": "WkVwVoFdoEwv"
      },
      "source": [
        ""
      ],
      "execution_count": null,
      "outputs": []
    }
  ]
}